{
 "cells": [
  {
   "cell_type": "code",
   "execution_count": 5,
   "id": "d63771a6",
   "metadata": {},
   "outputs": [
    {
     "name": "stdout",
     "output_type": "stream",
     "text": [
      "Biên dịch thành công\n",
      "Test 1: Input=(1,0,-4)\n",
      "Output: The equation has 2 real solution(s): 1.41421 -1.41421\n",
      "--------------------------------------------------\n",
      "Test 2: Input=(0,2,-8)\n",
      "Output: The equation has 2 real solution(s): 2 -2\n",
      "--------------------------------------------------\n",
      "Test 3: Input=(1,2,1)\n",
      "Output: No solution.\n",
      "--------------------------------------------------\n",
      "Test 4: Input=(1,-5,4)\n",
      "Output: The equation has 4 real solution(s): 2 -2 1 -1\n",
      "--------------------------------------------------\n",
      "Test 5: Input=(-1,0,1)\n",
      "Output: The equation has 2 real solution(s): 1 -1\n",
      "--------------------------------------------------\n",
      "Test 6: Input=(0,0,0)\n",
      "Output: Infinite solutions.\n",
      "--------------------------------------------------\n",
      "Test 7: Input=(0,0,5)\n",
      "Output: No solution.\n",
      "--------------------------------------------------\n"
     ]
    }
   ],
   "source": [
    "import subprocess\n",
    "\n",
    "# Bước 1: Biên dịch solveQuartic.cpp thành file thực thi solveQuartic\n",
    "compile_result = subprocess.run([\"g++\", \"Test.cpp\", \"-o\", \"Test\"], capture_output=True, text=True)\n",
    "\n",
    "if compile_result.returncode != 0:\n",
    "    print(\"Lỗi biên dịch:\")\n",
    "    print(compile_result.stderr)\n",
    "else:\n",
    "    print(\"Biên dịch thành công\")\n",
    "\n",
    "# Bước 2: Định nghĩa danh sách test-case\n",
    "tests = [\n",
    "    (1,0,-4),   # Case 1: a ≠ 0, b = 0 \n",
    "    (0,2,-8),   # Case 2: a = 0, b ≠ 0\n",
    "    (1,2,1),    # Case 3: a > 0, b > 0\n",
    "    (1,-5,4),   # Case 4: a > 0, b < 0\n",
    "    (-1,0,1),   # Case 5: a < 0\n",
    "    (0,0,0),    # Case 6: a = b = c\n",
    "    (0,0,5),    # Case 7: a = 0, b = 0, c ≠ 0 \n",
    "]\n",
    "# Bước 3: Chạy từng test-case\n",
    "for i, (a,b,c) in enumerate(tests, 1):\n",
    "    print(f\"Test {i}: Input=({a},{b},{c})\")\n",
    "    process = subprocess.run(\n",
    "        [\"./Test\"], \n",
    "        input=f\"{a} {b} {c}\\n\", \n",
    "        capture_output=True, \n",
    "        text=True\n",
    "    )\n",
    "    print(\"Output:\", process.stdout.strip())\n",
    "    print(\"-\"*50)\n"
   ]
  }
 ],
 "metadata": {
  "kernelspec": {
   "display_name": ".venv (3.11.9)",
   "language": "python",
   "name": "python3"
  },
  "language_info": {
   "codemirror_mode": {
    "name": "ipython",
    "version": 3
   },
   "file_extension": ".py",
   "mimetype": "text/x-python",
   "name": "python",
   "nbconvert_exporter": "python",
   "pygments_lexer": "ipython3",
   "version": "3.11.9"
  }
 },
 "nbformat": 4,
 "nbformat_minor": 5
}
